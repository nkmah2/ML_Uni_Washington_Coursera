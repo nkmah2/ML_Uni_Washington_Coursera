{
 "cells": [
  {
   "cell_type": "markdown",
   "metadata": {},
   "source": [
    "# Simple Linear Regression"
   ]
  },
  {
   "cell_type": "code",
   "execution_count": 1,
   "metadata": {
    "collapsed": true
   },
   "outputs": [],
   "source": [
    "from IPython.display import Latex\n",
    "import matplotlib.pyplot as plt\n",
    "import numpy as np"
   ]
  },
  {
   "cell_type": "markdown",
   "metadata": {
    "collapsed": true
   },
   "source": [
    "## Plot a line = y = 2x +3 and add some noise to it\n",
    "\n",
    "## Fit using the closed form solution \n",
    "\n",
    "## Make predictions\n",
    "\n",
    "## Derivation "
   ]
  },
  {
   "cell_type": "code",
   "execution_count": 2,
   "metadata": {
    "collapsed": false
   },
   "outputs": [],
   "source": [
    "X = np.array([2,3,4,5,6,7,8,9])\n",
    "noise = np.random.normal(0,1,8)\n",
    "Y = (X*2)+3 + noise"
   ]
  },
  {
   "cell_type": "code",
   "execution_count": 3,
   "metadata": {
    "collapsed": false
   },
   "outputs": [
    {
     "data": {
      "image/png": "[encoded data removed]",
      "text/plain": [
       "<matplotlib.figure.Figure at 0x7f76fcc033d0>"
      ]
     },
     "metadata": {},
     "output_type": "display_data"
    }
   ],
   "source": [
    "plt.plot(X, Y, 'ro')\n",
    "plt.axis([0, 10, 0, 25])\n",
    "plt.show()"
   ]
  },
  {
   "cell_type": "code",
   "execution_count": 4,
   "metadata": {
    "collapsed": true
   },
   "outputs": [],
   "source": [
    "def simple_linear_regression(input_feature, output):\n",
    "    \n",
    "    numerator = sum(input_feature * output) - (sum(input_feature) * sum(output))/len(output)\n",
    "    denominator = sum(input_feature * input_feature) - ((sum(input_feature) * sum(input_feature))/len(output))\n",
    "    slope = numerator / denominator\n",
    "    intercept = output.mean() - (slope * input_feature.mean())\n",
    "    \n",
    "    return (slope,intercept)"
   ]
  },
  {
   "cell_type": "code",
   "execution_count": 5,
   "metadata": {
    "collapsed": false
   },
   "outputs": [
    {
     "name": "stdout",
     "output_type": "stream",
     "text": [
      "Slope = 1.93449582783\n",
      "Intercept = 3.77304315556\n"
     ]
    }
   ],
   "source": [
    "slope, intercept = simple_linear_regression(X,Y)\n",
    "print \"Slope = \" + str(slope)\n",
    "print \"Intercept = \" + str(intercept)"
   ]
  },
  {
   "cell_type": "code",
   "execution_count": 6,
   "metadata": {
    "collapsed": false
   },
   "outputs": [
    {
     "data": {
      "image/png": "[encoded data removed]",
      "text/plain": [
       "<matplotlib.figure.Figure at 0x7f76fa59d350>"
      ]
     },
     "metadata": {},
     "output_type": "display_data"
    }
   ],
   "source": [
    "X1 = np.linspace(0, 10, num=11)\n",
    "Y1 = slope * X1 + intercept\n",
    "plt.plot(X, Y, 'ro')\n",
    "plt.plot(X1, Y1)\n",
    "plt.axis([0, 10, 0, 25])\n",
    "plt.show()"
   ]
  },
  {
   "cell_type": "code",
   "execution_count": 7,
   "metadata": {
    "collapsed": false
   },
   "outputs": [
    {
     "name": "stdout",
     "output_type": "stream",
     "text": [
      "12.4782743808\n"
     ]
    }
   ],
   "source": [
    "# Predict the value of y at x = 4.5\n",
    "xp = 4.5\n",
    "yp = slope * xp + intercept\n",
    "print yp"
   ]
  },
  {
   "cell_type": "markdown",
   "metadata": {},
   "source": [
    "![alt text](derivation1_1.jpg \"Derivation of omega_0 and omega1\")"
   ]
  },
  {
   "cell_type": "code",
   "execution_count": null,
   "metadata": {
    "collapsed": true
   },
   "outputs": [],
   "source": []
  }
 ],
 "metadata": {
  "kernelspec": {
   "display_name": "Python [default]",
   "language": "python",
   "name": "python2"
  },
  "language_info": {
   "codemirror_mode": {
    "name": "ipython",
    "version": 2
   },
   "file_extension": ".py",
   "mimetype": "text/x-python",
   "name": "python",
   "nbconvert_exporter": "python",
   "pygments_lexer": "ipython2",
   "version": "2.7.12"
  }
 },
 "nbformat": 4,
 "nbformat_minor": 1
}
